{
 "cells": [
  {
   "cell_type": "code",
   "execution_count": null,
   "metadata": {},
   "outputs": [],
   "source": [
    "import pandas as pd\n",
    "import tarfile"
   ]
  },
  {
   "cell_type": "code",
   "execution_count": null,
   "metadata": {},
   "outputs": [],
   "source": [
    "# extract jsons file from tar file\n",
    "tar = tarfile.open('geotagged_tweets.tar.gz', \"r:gz\")\n",
    "tar.extractall()\n",
    "tar.close()"
   ]
  },
  {
   "cell_type": "code",
   "execution_count": null,
   "metadata": {},
   "outputs": [],
   "source": [
    "import json\n",
    "\n",
    "tweets_data = []\n",
    "tweets_file = open('geotagged_tweets_20160812-0912.jsons', \"r\")\n",
    "\n",
    "for line in tweets_file:\n",
    "    try:\n",
    "        tweet = json.loads(line)\n",
    "        \n",
    "        # put coordinates in right format\n",
    "        if tweet['coordinates'] is not None:\n",
    "            longitude = tweet['coordinates']['coordinates'][0]\n",
    "            latitude = tweet['coordinates']['coordinates'][1]\n",
    "        else:\n",
    "            longitude = \"\"\n",
    "            latitude = \"\"\n",
    "        \n",
    "        # put hashtags in right format\n",
    "        hashtags = []\n",
    "        for hashtag in tweet['entities']['hashtags']:\n",
    "            hashtags.append(hashtag['text'])\n",
    "        print(hashtags)\n",
    "        \n",
    "        # save relevant parts of the tweet to a dictionary\n",
    "        tweet_relevant = {\n",
    "            'created_at':tweet['created_at'],\n",
    "            'id_str':tweet['id_str'],\n",
    "            'text':tweet['text'],\n",
    "            'user_id_str':tweet['user']['id_str'],\n",
    "            'lang':tweet['lang'],\n",
    "            'longitude': longitude,\n",
    "            'latitude':latitude,\n",
    "            'hashtags':hashtags,\n",
    "        }\n",
    "        \n",
    "        # print statement for testing\n",
    "        print(tweet_relevant)\n",
    "        \n",
    "        # append tweet to a list\n",
    "        tweets_data.append(tweet_relevant)\n",
    "    \n",
    "    # check for errors\n",
    "    except Exception as e:\n",
    "        print (e)\n",
    "        continue"
   ]
  },
  {
   "cell_type": "code",
   "execution_count": null,
   "metadata": {},
   "outputs": [],
   "source": [
    "print(tweets_data[1])"
   ]
  }
 ],
 "metadata": {
  "kernelspec": {
   "display_name": "Python 3",
   "language": "python",
   "name": "python3"
  },
  "language_info": {
   "codemirror_mode": {
    "name": "ipython",
    "version": 3
   },
   "file_extension": ".py",
   "mimetype": "text/x-python",
   "name": "python",
   "nbconvert_exporter": "python",
   "pygments_lexer": "ipython3",
   "version": "3.7.3"
  }
 },
 "nbformat": 4,
 "nbformat_minor": 2
}
